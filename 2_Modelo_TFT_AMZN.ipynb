{
 "cells": [
  {
   "cell_type": "markdown",
   "metadata": {},
   "source": [
    "# <font color='orangered'>Previsão de série temporal com TFT</font>"
   ]
  },
  {
   "cell_type": "markdown",
   "metadata": {},
   "source": [
    "## Instalando e Carregando os Pacotes"
   ]
  },
  {
   "cell_type": "code",
   "execution_count": 1,
   "metadata": {},
   "outputs": [
    {
     "name": "stdout",
     "output_type": "stream",
     "text": [
      "env: TF_CPP_MIN_LOG_LEVEL=3\n"
     ]
    }
   ],
   "source": [
    "%env TF_CPP_MIN_LOG_LEVEL=3"
   ]
  },
  {
   "cell_type": "code",
   "execution_count": 2,
   "metadata": {},
   "outputs": [],
   "source": [
    "# # https://www.tensorflow.org/\n",
    "# !pip install -q tensorflow==2.12.0"
   ]
  },
  {
   "cell_type": "code",
   "execution_count": 3,
   "metadata": {
    "colab": {
     "base_uri": "https://localhost:8080/"
    },
    "id": "4XrkYw2uQfGg",
    "outputId": "9b8366f5-dc32-4246-b4aa-1d74f46f94a4"
   },
   "outputs": [],
   "source": [
    "# # https://pypi.org/project/yfinance/\n",
    "# !pip install -q yfinance==0.2.22"
   ]
  },
  {
   "cell_type": "code",
   "execution_count": 4,
   "metadata": {},
   "outputs": [],
   "source": [
    "# # https://pypi.org/project/ta/ # análise técnica de dados financeiros\n",
    "# !pip install -q ta==0.10.2"
   ]
  },
  {
   "cell_type": "code",
   "execution_count": 5,
   "metadata": {
    "id": "IhTKSGJXQvSo"
   },
   "outputs": [
    {
     "name": "stderr",
     "output_type": "stream",
     "text": [
      "C:\\Users\\mfran\\anaconda3\\lib\\site-packages\\numpy\\_distributor_init.py:30: UserWarning: loaded more than 1 DLL from .libs:\n",
      "C:\\Users\\mfran\\anaconda3\\lib\\site-packages\\numpy\\.libs\\libopenblas.WCDJNK7YVMPZQ2ME2ZZHJJRJ3JIKNDB7.gfortran-win_amd64.dll\n",
      "C:\\Users\\mfran\\anaconda3\\lib\\site-packages\\numpy\\.libs\\libopenblas.XWYDX2IKJW2NMTWSFYNGFUWKQU3LYTCZ.gfortran-win_amd64.dll\n",
      "  warnings.warn(\"loaded more than 1 DLL from .libs:\"\n"
     ]
    }
   ],
   "source": [
    "# Imports\n",
    "import ta\n",
    "import sklearn\n",
    "import pandas as pd\n",
    "import numpy as np\n",
    "import tensorflow\n",
    "from tensorflow import keras\n",
    "from keras import layers\n",
    "from sklearn import metrics\n",
    "from sklearn.metrics import mean_absolute_error, make_scorer, mean_squared_error, explained_variance_score\n",
    "from sklearn.preprocessing import StandardScaler\n",
    "import yfinance as yf\n",
    "import matplotlib.pyplot as plt\n",
    "from matplotlib import cycler\n",
    "import warnings\n",
    "warnings.filterwarnings(\"ignore\")"
   ]
  },
  {
   "cell_type": "code",
   "execution_count": 6,
   "metadata": {},
   "outputs": [],
   "source": [
    "plt.style.use('seaborn')"
   ]
  },
  {
   "cell_type": "markdown",
   "metadata": {
    "id": "Qn_NRjZL7n5f"
   },
   "source": [
    "## Função Para Extração dos Dados em Tempo Real\n",
    "\n",
    "https://finance.yahoo.com/"
   ]
  },
  {
   "cell_type": "code",
   "execution_count": 7,
   "metadata": {},
   "outputs": [],
   "source": [
    "# Função\n",
    "def extrai_dados(ticker):\n",
    "    \n",
    "    # Busca todos os dados a partir de 01/09/2019\n",
    "    dados = yf.download(ticker, start = \"2019-09-01\")\n",
    "    \n",
    "    # Colunas do dataframe\n",
    "    dados.columns = [\"open\", \"high\", \"low\", \"close\", \"adj close\", \"volume\"]\n",
    "    \n",
    "    # Data como índice\n",
    "    dados.index.name = \"date\"\n",
    "    \n",
    "    return dados"
   ]
  },
  {
   "cell_type": "code",
   "execution_count": 8,
   "metadata": {},
   "outputs": [
    {
     "name": "stdout",
     "output_type": "stream",
     "text": [
      "[*********************100%***********************]  1 of 1 completed\n"
     ]
    }
   ],
   "source": [
    "# Extração dos dados\n",
    "df = extrai_dados(\"AMZN\")"
   ]
  },
  {
   "cell_type": "markdown",
   "metadata": {
    "id": "KEY6GR3irvGz"
   },
   "source": [
    "## Função Para Engenharia de Atributos de Dados Financeiros"
   ]
  },
  {
   "cell_type": "code",
   "execution_count": 9,
   "metadata": {
    "id": "5F4LvOoJad4N"
   },
   "outputs": [],
   "source": [
    "# Função para engenharia de atributos\n",
    "def func_engenharia_atributos(df):\n",
    "\n",
    "    # Cópia do dataframe\n",
    "    df_copy = df.copy()\n",
    "\n",
    "    # Cria a variável com o retorno (mudança percentual do fechamento - close)\n",
    "    # Essa será nossa variável alvo\n",
    "    df_copy[\"retorno\"] = df_copy[\"close\"].pct_change(1)\n",
    "\n",
    "    # Shift das colunas de preço do ativo financeiro\n",
    "    df_copy[\"op\"] = df_copy[\"open\"].shift(1)\n",
    "    df_copy[\"hi\"] = df_copy[\"high\"].shift(1)\n",
    "    df_copy[\"lo\"] = df_copy[\"low\"].shift(1)\n",
    "    df_copy[\"clo\"] = df_copy[\"close\"].shift(1)\n",
    "\n",
    "    # Shift da coluna Volume\n",
    "    df_copy[\"vol\"] = df_copy[\"volume\"].shift(1)\n",
    "\n",
    "    # Simple Moving Average (SMA)\n",
    "    df_copy[\"SMA 25\"] = df_copy[[\"close\"]].rolling(25).mean().shift(1)\n",
    "    df_copy[\"SMA 60\"] = df_copy[[\"close\"]].rolling(60).mean().shift(1)\n",
    "\n",
    "    # Moving Standard Deviation (MSD) - Volatilidade\n",
    "    df_copy[\"MSD 25\"] = df_copy[\"retorno\"].rolling(25).std().shift(1)\n",
    "    df_copy[\"MSD 60\"] = df_copy[\"retorno\"].rolling(60).std().shift(1)\n",
    "\n",
    "    # Volume Weighted Average Price (VWAP) Volume do preço médio ponderado\n",
    "    vwap = ta.volume.VolumeWeightedAveragePrice(high = df['high'],\n",
    "                                                low = df['low'],\n",
    "                                                close = df['close'],\n",
    "                                                volume = df['volume'],\n",
    "                                                window = 5)\n",
    "    \n",
    "    df_copy[\"VWAP\"] = vwap.vwap.shift(1)\n",
    "\n",
    "    # Relative Strength Index (RSI)\n",
    "    RSI = ta.momentum.RSIIndicator(df_copy[\"close\"], window = 5, fillna = False)\n",
    "    \n",
    "    df_copy[\"RSI\"] = RSI.rsi().shift(1)\n",
    "\n",
    "    return df_copy.dropna()"
   ]
  },
  {
   "cell_type": "code",
   "execution_count": 10,
   "metadata": {
    "colab": {
     "base_uri": "https://localhost:8080/",
     "height": 536
    },
    "id": "u12-bjaOp2uA",
    "outputId": "e6713cfb-6d6c-4966-d047-d634ef4562c5"
   },
   "outputs": [],
   "source": [
    "# Engenharia de atributos\n",
    "df = func_engenharia_atributos(df)"
   ]
  },
  {
   "cell_type": "code",
   "execution_count": 11,
   "metadata": {},
   "outputs": [
    {
     "data": {
      "text/html": [
       "<div>\n",
       "<style scoped>\n",
       "    .dataframe tbody tr th:only-of-type {\n",
       "        vertical-align: middle;\n",
       "    }\n",
       "\n",
       "    .dataframe tbody tr th {\n",
       "        vertical-align: top;\n",
       "    }\n",
       "\n",
       "    .dataframe thead th {\n",
       "        text-align: right;\n",
       "    }\n",
       "</style>\n",
       "<table border=\"1\" class=\"dataframe\">\n",
       "  <thead>\n",
       "    <tr style=\"text-align: right;\">\n",
       "      <th></th>\n",
       "      <th>open</th>\n",
       "      <th>high</th>\n",
       "      <th>low</th>\n",
       "      <th>close</th>\n",
       "      <th>adj close</th>\n",
       "      <th>volume</th>\n",
       "      <th>retorno</th>\n",
       "      <th>op</th>\n",
       "      <th>hi</th>\n",
       "      <th>lo</th>\n",
       "      <th>clo</th>\n",
       "      <th>vol</th>\n",
       "      <th>SMA 25</th>\n",
       "      <th>SMA 60</th>\n",
       "      <th>MSD 25</th>\n",
       "      <th>MSD 60</th>\n",
       "      <th>VWAP</th>\n",
       "      <th>RSI</th>\n",
       "    </tr>\n",
       "    <tr>\n",
       "      <th>date</th>\n",
       "      <th></th>\n",
       "      <th></th>\n",
       "      <th></th>\n",
       "      <th></th>\n",
       "      <th></th>\n",
       "      <th></th>\n",
       "      <th></th>\n",
       "      <th></th>\n",
       "      <th></th>\n",
       "      <th></th>\n",
       "      <th></th>\n",
       "      <th></th>\n",
       "      <th></th>\n",
       "      <th></th>\n",
       "      <th></th>\n",
       "      <th></th>\n",
       "      <th></th>\n",
       "      <th></th>\n",
       "    </tr>\n",
       "  </thead>\n",
       "  <tbody>\n",
       "    <tr>\n",
       "      <th>2024-11-06</th>\n",
       "      <td>200.009995</td>\n",
       "      <td>207.550003</td>\n",
       "      <td>199.139999</td>\n",
       "      <td>207.089996</td>\n",
       "      <td>207.089996</td>\n",
       "      <td>72292200</td>\n",
       "      <td>0.038045</td>\n",
       "      <td>196.039993</td>\n",
       "      <td>199.820007</td>\n",
       "      <td>195.990005</td>\n",
       "      <td>199.500000</td>\n",
       "      <td>30564800.0</td>\n",
       "      <td>188.2112</td>\n",
       "      <td>184.052167</td>\n",
       "      <td>0.019017</td>\n",
       "      <td>0.017937</td>\n",
       "      <td>194.501701</td>\n",
       "      <td>70.419081</td>\n",
       "    </tr>\n",
       "    <tr>\n",
       "      <th>2024-11-07</th>\n",
       "      <td>207.440002</td>\n",
       "      <td>212.250000</td>\n",
       "      <td>207.190002</td>\n",
       "      <td>210.050003</td>\n",
       "      <td>210.050003</td>\n",
       "      <td>52820000</td>\n",
       "      <td>0.014293</td>\n",
       "      <td>200.009995</td>\n",
       "      <td>207.550003</td>\n",
       "      <td>199.139999</td>\n",
       "      <td>207.089996</td>\n",
       "      <td>72292200.0</td>\n",
       "      <td>189.1044</td>\n",
       "      <td>184.666500</td>\n",
       "      <td>0.020213</td>\n",
       "      <td>0.018362</td>\n",
       "      <td>196.918176</td>\n",
       "      <td>80.068730</td>\n",
       "    </tr>\n",
       "  </tbody>\n",
       "</table>\n",
       "</div>"
      ],
      "text/plain": [
       "                  open        high         low       close   adj close  \\\n",
       "date                                                                     \n",
       "2024-11-06  200.009995  207.550003  199.139999  207.089996  207.089996   \n",
       "2024-11-07  207.440002  212.250000  207.190002  210.050003  210.050003   \n",
       "\n",
       "              volume   retorno          op          hi          lo  \\\n",
       "date                                                                 \n",
       "2024-11-06  72292200  0.038045  196.039993  199.820007  195.990005   \n",
       "2024-11-07  52820000  0.014293  200.009995  207.550003  199.139999   \n",
       "\n",
       "                   clo         vol    SMA 25      SMA 60    MSD 25    MSD 60  \\\n",
       "date                                                                           \n",
       "2024-11-06  199.500000  30564800.0  188.2112  184.052167  0.019017  0.017937   \n",
       "2024-11-07  207.089996  72292200.0  189.1044  184.666500  0.020213  0.018362   \n",
       "\n",
       "                  VWAP        RSI  \n",
       "date                               \n",
       "2024-11-06  194.501701  70.419081  \n",
       "2024-11-07  196.918176  80.068730  "
      ]
     },
     "execution_count": 11,
     "metadata": {},
     "output_type": "execute_result"
    }
   ],
   "source": [
    "df.tail(2)"
   ]
  },
  {
   "cell_type": "markdown",
   "metadata": {
    "id": "iNZcj-s6Vp2R"
   },
   "source": [
    "> Divisão dos Dados em Treino, Validação e Teste"
   ]
  },
  {
   "cell_type": "code",
   "execution_count": 12,
   "metadata": {},
   "outputs": [],
   "source": [
    "# Usar o gráfico que plota a cotação das principais colunas"
   ]
  },
  {
   "cell_type": "code",
   "execution_count": 13,
   "metadata": {},
   "outputs": [],
   "source": [
    "# Percentual de split de treino e validação\n",
    "split = int(0.80*len(df))\n",
    "split_val = int(0.90*len(df))"
   ]
  },
  {
   "cell_type": "code",
   "execution_count": 14,
   "metadata": {},
   "outputs": [
    {
     "data": {
      "text/plain": [
       "Index(['open', 'high', 'low', 'close', 'adj close', 'volume', 'retorno', 'op',\n",
       "       'hi', 'lo', 'clo', 'vol', 'SMA 25', 'SMA 60', 'MSD 25', 'MSD 60',\n",
       "       'VWAP', 'RSI'],\n",
       "      dtype='object')"
      ]
     },
     "execution_count": 14,
     "metadata": {},
     "output_type": "execute_result"
    }
   ],
   "source": [
    "df.columns"
   ]
  },
  {
   "cell_type": "code",
   "execution_count": 15,
   "metadata": {},
   "outputs": [],
   "source": [
    "# Dataset de treino\n",
    "x_treino = df[[\"VWAP\", \"RSI\", \"SMA 60\", \"op\", \"MSD 60\"]].iloc[:split,:]\n",
    "y_treino = df[['close']].iloc[:split,:]"
   ]
  },
  {
   "cell_type": "code",
   "execution_count": 16,
   "metadata": {},
   "outputs": [],
   "source": [
    "# Dataset de validação\n",
    "x_valid = df[[\"VWAP\", \"RSI\", \"SMA 60\", \"op\", \"MSD 60\"]].iloc[split:split_val,:]\n",
    "y_valid = df[['close']].iloc[split:split_val,:]"
   ]
  },
  {
   "cell_type": "code",
   "execution_count": 17,
   "metadata": {},
   "outputs": [],
   "source": [
    "# Dataset de teste\n",
    "x_teste = df[[\"VWAP\", \"RSI\", \"SMA 60\", \"op\", \"MSD 60\"]].iloc[split_val:,:]\n",
    "y_teste = df[['close']].iloc[split_val:,:]"
   ]
  },
  {
   "cell_type": "markdown",
   "metadata": {},
   "source": [
    "## Padronização"
   ]
  },
  {
   "cell_type": "code",
   "execution_count": 18,
   "metadata": {},
   "outputs": [],
   "source": [
    "# Cria o padronizador\n",
    "sc = StandardScaler()"
   ]
  },
  {
   "cell_type": "code",
   "execution_count": 19,
   "metadata": {},
   "outputs": [],
   "source": [
    "# Fit e transform nos dados de treino\n",
    "x_treino_sc = sc.fit_transform(x_treino)"
   ]
  },
  {
   "cell_type": "code",
   "execution_count": 20,
   "metadata": {},
   "outputs": [],
   "source": [
    "# Transform nos dados de validação\n",
    "x_valid_sc = sc.transform(x_valid)"
   ]
  },
  {
   "cell_type": "code",
   "execution_count": 21,
   "metadata": {
    "id": "SBaewsY_p2uB"
   },
   "outputs": [],
   "source": [
    "# Transform nos dados de teste\n",
    "x_teste_sc = sc.transform(x_teste)"
   ]
  },
  {
   "cell_type": "markdown",
   "metadata": {},
   "source": [
    "## Ajuste no Formato dos Dados"
   ]
  },
  {
   "cell_type": "code",
   "execution_count": 22,
   "metadata": {
    "id": "xDqD3eTDEWvo"
   },
   "outputs": [],
   "source": [
    "# Função para ajustar o formato dos dados\n",
    "def ajusta_formato_dados(X_s, y_s, lag):\n",
    "\n",
    "    if len(X_s) != len(y_s):\n",
    "        print(\"Warnings\")\n",
    "\n",
    "    X_train = []\n",
    "    \n",
    "    for variable in range(0, X_s.shape[1]):\n",
    "        \n",
    "        X = []\n",
    "        \n",
    "        for i in range(lag, X_s.shape[0]):\n",
    "            X.append(X_s[i-lag:i, variable])\n",
    "        \n",
    "        X_train.append(X)\n",
    "    \n",
    "    X_train, np.array(X_train)\n",
    "    \n",
    "    X_train = np.swapaxes(np.swapaxes(X_train, 0, 1), 1, 2)\n",
    "\n",
    "    y_train = []\n",
    "    \n",
    "    for i in range(lag, y_s.shape[0]):\n",
    "        y_train.append(y_s[i, :].reshape(-1,1).transpose())\n",
    "    \n",
    "    y_train = np.concatenate(y_train, axis = 0)\n",
    "    \n",
    "    return X_train, y_train"
   ]
  },
  {
   "cell_type": "code",
   "execution_count": 23,
   "metadata": {},
   "outputs": [],
   "source": [
    "# Valor do Lag\n",
    "lag = 5"
   ]
  },
  {
   "cell_type": "code",
   "execution_count": 24,
   "metadata": {},
   "outputs": [],
   "source": [
    "# Aplica a função nos dados de treino\n",
    "x_treino_final, y_treino_final = ajusta_formato_dados(x_treino_sc, y_treino.values, lag)"
   ]
  },
  {
   "cell_type": "code",
   "execution_count": 25,
   "metadata": {},
   "outputs": [],
   "source": [
    "# Aplica a função nos dados de validação\n",
    "x_valid_final, y_valid_final = ajusta_formato_dados(x_valid_sc, y_valid.values, lag)"
   ]
  },
  {
   "cell_type": "code",
   "execution_count": 26,
   "metadata": {
    "id": "rlJJ4cRVHshH"
   },
   "outputs": [],
   "source": [
    "# Aplica a função nos dados de teste\n",
    "x_teste_final, y_teste_final = ajusta_formato_dados(x_teste_sc, y_teste.values, lag)"
   ]
  },
  {
   "cell_type": "code",
   "execution_count": 27,
   "metadata": {
    "colab": {
     "base_uri": "https://localhost:8080/"
    },
    "id": "yCmIi9AzgpaG",
    "outputId": "eb59d9de-94d7-489f-8007-ea630a282590"
   },
   "outputs": [
    {
     "name": "stdout",
     "output_type": "stream",
     "text": [
      "Shape dos dados de treino: (991, 5, 5)\n",
      "Shape dos dados de validação: (119, 5, 5)\n",
      "Shape dos dados de teste: (120, 5, 5)\n"
     ]
    }
   ],
   "source": [
    "print(f\"Shape dos dados de treino: {x_treino_final.shape}\")\n",
    "print(f\"Shape dos dados de validação: {x_valid_final.shape}\")\n",
    "print(f\"Shape dos dados de teste: {x_teste_final.shape}\")"
   ]
  },
  {
   "cell_type": "markdown",
   "metadata": {},
   "source": [
    "## Construção do Modelo Temporal Fusion Transformer"
   ]
  },
  {
   "cell_type": "code",
   "execution_count": 28,
   "metadata": {
    "id": "YZ5ltq1L397v"
   },
   "outputs": [],
   "source": [
    "# Função do transformer encoder\n",
    "def transformer_encoder(inputs, head_size, num_heads, ff_dim, dropout = 0):\n",
    "    \n",
    "    # Normalização\n",
    "    x = layers.LayerNormalization(epsilon = 1e-6)(inputs)\n",
    "    \n",
    "    # Atenção\n",
    "    x = layers.MultiHeadAttention(key_dim = head_size, num_heads = num_heads, dropout = dropout)(x, x, x)\n",
    "    \n",
    "    # Dropout\n",
    "    x = layers.Dropout(dropout)(x)\n",
    "    \n",
    "    # Camadas e dados\n",
    "    res = x + inputs\n",
    "\n",
    "    # Feed Forward \n",
    "    x = layers.LayerNormalization(epsilon = 1e-6)(res)\n",
    "    x = layers.Conv1D(filters = ff_dim, kernel_size = 1, activation = \"relu\")(x)\n",
    "    x = layers.Dropout(dropout)(x)\n",
    "    x = layers.Conv1D(filters = inputs.shape[-1], kernel_size = 1)(x)\n",
    "    \n",
    "    return x + res"
   ]
  },
  {
   "cell_type": "markdown",
   "metadata": {
    "id": "Et2peKf3Z4H_"
   },
   "source": [
    "A função abaixo é usada para construir o modelo final com LSTM, GRU e Transformer."
   ]
  },
  {
   "cell_type": "code",
   "execution_count": 29,
   "metadata": {
    "id": "HUAVPayh4MKc"
   },
   "outputs": [],
   "source": [
    "# Função de criação do modelo\n",
    "def cria_modelo(input_shape, \n",
    "                head_size, \n",
    "                num_heads, \n",
    "                ff_dim, \n",
    "                num_transformer_blocks, \n",
    "                mlp_units, \n",
    "                dropout = 0, \n",
    "                mlp_dropout = 0):\n",
    "    \n",
    "    inputs = keras.Input(shape = input_shape)\n",
    "    \n",
    "    x = inputs\n",
    "    \n",
    "    x = layers.LSTM(10, return_sequences = True)(x)\n",
    "    \n",
    "    for _ in range(num_transformer_blocks):\n",
    "        x = transformer_encoder(x, head_size, num_heads, ff_dim, dropout)\n",
    "    \n",
    "    x = layers.GRU(120, return_sequences = False)(x)\n",
    "    \n",
    "    x = layers.Dropout(mlp_dropout)(x)\n",
    "    \n",
    "    x = layers.Dense(mlp_units, activation = \"relu\")(x)\n",
    "    \n",
    "    outputs = layers.Dense(1)(x)\n",
    "    \n",
    "    return keras.Model(inputs, outputs)"
   ]
  },
  {
   "cell_type": "code",
   "execution_count": 30,
   "metadata": {},
   "outputs": [],
   "source": [
    "# Shape de entrada\n",
    "input_shape = x_treino_final.shape[1:]"
   ]
  },
  {
   "cell_type": "code",
   "execution_count": 31,
   "metadata": {},
   "outputs": [],
   "source": [
    "# Cria o modeloo\n",
    "modelo = cria_modelo(input_shape,\n",
    "                     head_size = 16,\n",
    "                     num_heads = 1,\n",
    "                     ff_dim = 4,\n",
    "                     num_transformer_blocks = 1,\n",
    "                     mlp_units = 130,\n",
    "                     dropout = 0.2,\n",
    "                     mlp_dropout = 0.25)"
   ]
  },
  {
   "cell_type": "code",
   "execution_count": 32,
   "metadata": {},
   "outputs": [],
   "source": [
    "# Compila o modelo\n",
    "modelo.compile(loss = \"mean_squared_error\", optimizer = keras.optimizers.Adam())"
   ]
  },
  {
   "cell_type": "code",
   "execution_count": 33,
   "metadata": {},
   "outputs": [
    {
     "name": "stdout",
     "output_type": "stream",
     "text": [
      "Model: \"model\"\n",
      "__________________________________________________________________________________________________\n",
      " Layer (type)                   Output Shape         Param #     Connected to                     \n",
      "==================================================================================================\n",
      " input_1 (InputLayer)           [(None, 5, 5)]       0           []                               \n",
      "                                                                                                  \n",
      " lstm (LSTM)                    (None, 5, 10)        640         ['input_1[0][0]']                \n",
      "                                                                                                  \n",
      " layer_normalization (LayerNorm  (None, 5, 10)       20          ['lstm[0][0]']                   \n",
      " alization)                                                                                       \n",
      "                                                                                                  \n",
      " multi_head_attention (MultiHea  (None, 5, 10)       698         ['layer_normalization[0][0]',    \n",
      " dAttention)                                                      'layer_normalization[0][0]',    \n",
      "                                                                  'layer_normalization[0][0]']    \n",
      "                                                                                                  \n",
      " dropout (Dropout)              (None, 5, 10)        0           ['multi_head_attention[0][0]']   \n",
      "                                                                                                  \n",
      " tf.__operators__.add (TFOpLamb  (None, 5, 10)       0           ['dropout[0][0]',                \n",
      " da)                                                              'lstm[0][0]']                   \n",
      "                                                                                                  \n",
      " layer_normalization_1 (LayerNo  (None, 5, 10)       20          ['tf.__operators__.add[0][0]']   \n",
      " rmalization)                                                                                     \n",
      "                                                                                                  \n",
      " conv1d (Conv1D)                (None, 5, 4)         44          ['layer_normalization_1[0][0]']  \n",
      "                                                                                                  \n",
      " dropout_1 (Dropout)            (None, 5, 4)         0           ['conv1d[0][0]']                 \n",
      "                                                                                                  \n",
      " conv1d_1 (Conv1D)              (None, 5, 10)        50          ['dropout_1[0][0]']              \n",
      "                                                                                                  \n",
      " tf.__operators__.add_1 (TFOpLa  (None, 5, 10)       0           ['conv1d_1[0][0]',               \n",
      " mbda)                                                            'tf.__operators__.add[0][0]']   \n",
      "                                                                                                  \n",
      " gru (GRU)                      (None, 120)          47520       ['tf.__operators__.add_1[0][0]'] \n",
      "                                                                                                  \n",
      " dropout_2 (Dropout)            (None, 120)          0           ['gru[0][0]']                    \n",
      "                                                                                                  \n",
      " dense (Dense)                  (None, 130)          15730       ['dropout_2[0][0]']              \n",
      "                                                                                                  \n",
      " dense_1 (Dense)                (None, 1)            131         ['dense[0][0]']                  \n",
      "                                                                                                  \n",
      "==================================================================================================\n",
      "Total params: 64,853\n",
      "Trainable params: 64,853\n",
      "Non-trainable params: 0\n",
      "__________________________________________________________________________________________________\n"
     ]
    }
   ],
   "source": [
    "modelo.summary()"
   ]
  },
  {
   "cell_type": "code",
   "execution_count": 34,
   "metadata": {},
   "outputs": [],
   "source": [
    "# Callbacks\n",
    "callbacks = [keras.callbacks.EarlyStopping(patience = 5, restore_best_weights = True)]"
   ]
  },
  {
   "cell_type": "code",
   "execution_count": 35,
   "metadata": {
    "colab": {
     "base_uri": "https://localhost:8080/"
    },
    "id": "ZzacEsJip2uB",
    "outputId": "7091065d-1184-48dc-e52d-fc3f28cde029"
   },
   "outputs": [
    {
     "name": "stdout",
     "output_type": "stream",
     "text": [
      "Epoch 1/30\n",
      "199/199 [==============================] - 9s 16ms/step - loss: 4573.1685 - val_loss: 1219.1946\n",
      "Epoch 2/30\n",
      "199/199 [==============================] - 2s 12ms/step - loss: 823.6332 - val_loss: 1111.2079\n",
      "Epoch 3/30\n",
      "199/199 [==============================] - 2s 11ms/step - loss: 315.6175 - val_loss: 238.1751\n",
      "Epoch 4/30\n",
      "199/199 [==============================] - 2s 12ms/step - loss: 173.4959 - val_loss: 207.7954\n",
      "Epoch 5/30\n",
      "199/199 [==============================] - 2s 12ms/step - loss: 133.4288 - val_loss: 161.1425\n",
      "Epoch 6/30\n",
      "199/199 [==============================] - 3s 14ms/step - loss: 131.4128 - val_loss: 166.1973\n",
      "Epoch 7/30\n",
      "199/199 [==============================] - 3s 13ms/step - loss: 121.0171 - val_loss: 193.3421\n",
      "Epoch 8/30\n",
      "199/199 [==============================] - 2s 12ms/step - loss: 117.9912 - val_loss: 131.7606\n",
      "Epoch 9/30\n",
      "199/199 [==============================] - 2s 11ms/step - loss: 123.0345 - val_loss: 107.4115\n",
      "Epoch 10/30\n",
      "199/199 [==============================] - 3s 14ms/step - loss: 112.3993 - val_loss: 81.2398\n",
      "Epoch 11/30\n",
      "199/199 [==============================] - 3s 13ms/step - loss: 102.4787 - val_loss: 69.7345\n",
      "Epoch 12/30\n",
      "199/199 [==============================] - 3s 13ms/step - loss: 94.1250 - val_loss: 88.6085\n",
      "Epoch 13/30\n",
      "199/199 [==============================] - 3s 13ms/step - loss: 98.4898 - val_loss: 53.5956\n",
      "Epoch 14/30\n",
      "199/199 [==============================] - 3s 13ms/step - loss: 100.1827 - val_loss: 71.0427\n",
      "Epoch 15/30\n",
      "199/199 [==============================] - 2s 12ms/step - loss: 87.2626 - val_loss: 50.5910\n",
      "Epoch 16/30\n",
      "199/199 [==============================] - 2s 12ms/step - loss: 105.4566 - val_loss: 85.4823\n",
      "Epoch 17/30\n",
      "199/199 [==============================] - 2s 12ms/step - loss: 92.8313 - val_loss: 132.3326\n",
      "Epoch 18/30\n",
      "199/199 [==============================] - 2s 12ms/step - loss: 94.6269 - val_loss: 40.9898\n",
      "Epoch 19/30\n",
      "199/199 [==============================] - 3s 13ms/step - loss: 93.8440 - val_loss: 40.8054\n",
      "Epoch 20/30\n",
      "199/199 [==============================] - 3s 13ms/step - loss: 87.9280 - val_loss: 66.6271\n",
      "Epoch 21/30\n",
      "199/199 [==============================] - 3s 13ms/step - loss: 94.0918 - val_loss: 77.6735\n",
      "Epoch 22/30\n",
      "199/199 [==============================] - 2s 12ms/step - loss: 85.5360 - val_loss: 43.0238\n",
      "Epoch 23/30\n",
      "199/199 [==============================] - 2s 11ms/step - loss: 89.8055 - val_loss: 45.1663\n",
      "Epoch 24/30\n",
      "199/199 [==============================] - 3s 13ms/step - loss: 90.1095 - val_loss: 84.5117\n",
      "Wall time: 1min 6s\n"
     ]
    },
    {
     "data": {
      "text/plain": [
       "<keras.callbacks.History at 0x21ca770e880>"
      ]
     },
     "execution_count": 35,
     "metadata": {},
     "output_type": "execute_result"
    }
   ],
   "source": [
    "%%time\n",
    "\n",
    "# Treinamento do modelo\n",
    "modelo.fit(x_treino_final,\n",
    "           y_treino_final,\n",
    "           validation_data = (x_valid_final, y_valid_final),\n",
    "           epochs = 30,\n",
    "           batch_size = 5,\n",
    "           callbacks = callbacks)"
   ]
  },
  {
   "cell_type": "code",
   "execution_count": 36,
   "metadata": {
    "colab": {
     "base_uri": "https://localhost:8080/",
     "height": 364
    },
    "id": "BfM3jqhSI5Ns",
    "outputId": "71b8773f-167f-4928-a5c6-d14f5fb04d95"
   },
   "outputs": [
    {
     "data": {
      "text/plain": [
       "<Axes: >"
      ]
     },
     "execution_count": 36,
     "metadata": {},
     "output_type": "execute_result"
    },
    {
     "data": {
      "image/png": "[encoded data removed]",
      "text/plain": [
       "<Figure size 800x550 with 1 Axes>"
      ]
     },
     "metadata": {},
     "output_type": "display_data"
    }
   ],
   "source": [
    "pd.DataFrame(modelo.history.history).plot()"
   ]
  },
  {
   "cell_type": "code",
   "execution_count": 37,
   "metadata": {},
   "outputs": [
    {
     "name": "stdout",
     "output_type": "stream",
     "text": [
      "4/4 [==============================] - 1s 9ms/step\n"
     ]
    }
   ],
   "source": [
    "pred = modelo.predict(x_teste_final)"
   ]
  },
  {
   "cell_type": "code",
   "execution_count": 38,
   "metadata": {},
   "outputs": [],
   "source": [
    "score = np.sqrt(metrics.mean_squared_error(pred, y_teste_final))"
   ]
  },
  {
   "cell_type": "code",
   "execution_count": 39,
   "metadata": {
    "colab": {
     "base_uri": "https://localhost:8080/"
    },
    "id": "DqiV9Oq2p2uB",
    "outputId": "3d8db221-9b40-4b5f-86d5-b2296060bc29"
   },
   "outputs": [
    {
     "name": "stdout",
     "output_type": "stream",
     "text": [
      "Score (RMSE): 13.442478097441064\n"
     ]
    }
   ],
   "source": [
    "print(\"Score (RMSE): {}\".format(score))"
   ]
  },
  {
   "cell_type": "code",
   "execution_count": 40,
   "metadata": {},
   "outputs": [],
   "source": [
    "#MAPE function\n",
    "def MAPE(y_true, y_pred):\n",
    "  y_true, y_pred = np.array(y_true), np.array(y_pred)\n",
    "  return np.mean(np.abs((y_true - y_pred) / y_true)) * 100"
   ]
  },
  {
   "cell_type": "code",
   "execution_count": 41,
   "metadata": {},
   "outputs": [
    {
     "name": "stdout",
     "output_type": "stream",
     "text": [
      "MSE: 180.70021740018274\n",
      "RMSE: 13.442478097441064\n",
      "MAPE: 6.166365898900038\n"
     ]
    }
   ],
   "source": [
    "# Imprime as métricas\n",
    "MSE = mean_squared_error(y_teste_final, pred)\n",
    "print('MSE:', MSE)\n",
    "\n",
    "RMSE = mean_squared_error(y_teste_final, pred, squared = False)\n",
    "print('RMSE:', RMSE)\n",
    "\n",
    "MAPE = MAPE(y_teste_final, pred)\n",
    "print('MAPE:', MAPE)"
   ]
  },
  {
   "cell_type": "code",
   "execution_count": 42,
   "metadata": {},
   "outputs": [
    {
     "name": "stdout",
     "output_type": "stream",
     "text": [
      "31/31 [==============================] - 0s 6ms/step\n"
     ]
    }
   ],
   "source": [
    "y_pred_treino = np.concatenate((np.zeros([lag,1]), modelo.predict(x_treino_final)), axis = 0)"
   ]
  },
  {
   "cell_type": "code",
   "execution_count": 43,
   "metadata": {},
   "outputs": [
    {
     "name": "stdout",
     "output_type": "stream",
     "text": [
      "4/4 [==============================] - 0s 10ms/step\n"
     ]
    }
   ],
   "source": [
    "y_pred_valid = np.concatenate((np.zeros([lag,1]), modelo.predict(x_valid_final)), axis = 0)"
   ]
  },
  {
   "cell_type": "code",
   "execution_count": 44,
   "metadata": {},
   "outputs": [
    {
     "name": "stdout",
     "output_type": "stream",
     "text": [
      "4/4 [==============================] - 0s 8ms/step\n"
     ]
    }
   ],
   "source": [
    "y_pred_teste = np.concatenate((np.zeros([lag,1]), modelo.predict(x_teste_final)), axis = 0)"
   ]
  },
  {
   "cell_type": "code",
   "execution_count": 45,
   "metadata": {},
   "outputs": [],
   "source": [
    "# Concatena as previsões em treino, valid e teste como previsão final\n",
    "df[\"prediction\"] = np.concatenate((y_pred_treino, y_pred_valid, y_pred_teste), axis = 0)"
   ]
  },
  {
   "cell_type": "code",
   "execution_count": 46,
   "metadata": {},
   "outputs": [
    {
     "data": {
      "image/png": "[encoded data removed]",
      "text/plain": [
       "<Figure size 800x550 with 1 Axes>"
      ]
     },
     "metadata": {},
     "output_type": "display_data"
    }
   ],
   "source": [
    "df[['close', 'prediction']].plot()\n",
    "plt.show();"
   ]
  },
  {
   "cell_type": "code",
   "execution_count": 47,
   "metadata": {
    "colab": {
     "base_uri": "https://localhost:8080/"
    },
    "id": "g_J7dlsDW5ae",
    "outputId": "7d11afc2-f1e5-458d-f8c9-fdc7694bcb71"
   },
   "outputs": [],
   "source": [
    "# Calcula a estratégia\n",
    "df[\"strategy\"] = df[\"retorno\"] * np.sign(df[\"prediction\"].shift(1))"
   ]
  },
  {
   "cell_type": "code",
   "execution_count": 48,
   "metadata": {
    "colab": {
     "base_uri": "https://localhost:8080/",
     "height": 341
    },
    "id": "_X5l7ba_Tk69",
    "outputId": "ef8bda16-4f47-4cb8-ceb3-a4fe6d1fe309"
   },
   "outputs": [
    {
     "data": {
      "image/png": "[encoded data removed]",
      "text/plain": [
       "<Figure size 800x550 with 1 Axes>"
      ]
     },
     "metadata": {},
     "output_type": "display_data"
    }
   ],
   "source": [
    "# Plot do acumulado\n",
    "df[\"strategy\"].iloc[:].cumsum().plot()\n",
    "plt.show()"
   ]
  },
  {
   "cell_type": "code",
   "execution_count": 49,
   "metadata": {},
   "outputs": [],
   "source": [
    "amzn = df[[\"close\", \"prediction\"]].reset_index()\n",
    "amzn1 = (amzn[\"date\"] > '2024-08-01')\n",
    "amzn2 = amzn[amzn1]\n",
    "amazon = amzn2.rename(columns={'prediction':'AMZN_TFT'})"
   ]
  },
  {
   "cell_type": "code",
   "execution_count": 50,
   "metadata": {},
   "outputs": [
    {
     "data": {
      "text/html": [
       "<div>\n",
       "<style scoped>\n",
       "    .dataframe tbody tr th:only-of-type {\n",
       "        vertical-align: middle;\n",
       "    }\n",
       "\n",
       "    .dataframe tbody tr th {\n",
       "        vertical-align: top;\n",
       "    }\n",
       "\n",
       "    .dataframe thead th {\n",
       "        text-align: right;\n",
       "    }\n",
       "</style>\n",
       "<table border=\"1\" class=\"dataframe\">\n",
       "  <thead>\n",
       "    <tr style=\"text-align: right;\">\n",
       "      <th></th>\n",
       "      <th>date</th>\n",
       "      <th>close</th>\n",
       "      <th>AMZN_TFT</th>\n",
       "    </tr>\n",
       "  </thead>\n",
       "  <tbody>\n",
       "    <tr>\n",
       "      <th>1240</th>\n",
       "      <td>2024-11-01</td>\n",
       "      <td>197.929993</td>\n",
       "      <td>174.832367</td>\n",
       "    </tr>\n",
       "    <tr>\n",
       "      <th>1241</th>\n",
       "      <td>2024-11-04</td>\n",
       "      <td>195.779999</td>\n",
       "      <td>174.672302</td>\n",
       "    </tr>\n",
       "    <tr>\n",
       "      <th>1242</th>\n",
       "      <td>2024-11-05</td>\n",
       "      <td>199.500000</td>\n",
       "      <td>174.805206</td>\n",
       "    </tr>\n",
       "    <tr>\n",
       "      <th>1243</th>\n",
       "      <td>2024-11-06</td>\n",
       "      <td>207.089996</td>\n",
       "      <td>174.867874</td>\n",
       "    </tr>\n",
       "    <tr>\n",
       "      <th>1244</th>\n",
       "      <td>2024-11-07</td>\n",
       "      <td>210.050003</td>\n",
       "      <td>174.977936</td>\n",
       "    </tr>\n",
       "  </tbody>\n",
       "</table>\n",
       "</div>"
      ],
      "text/plain": [
       "           date       close    AMZN_TFT\n",
       "1240 2024-11-01  197.929993  174.832367\n",
       "1241 2024-11-04  195.779999  174.672302\n",
       "1242 2024-11-05  199.500000  174.805206\n",
       "1243 2024-11-06  207.089996  174.867874\n",
       "1244 2024-11-07  210.050003  174.977936"
      ]
     },
     "execution_count": 50,
     "metadata": {},
     "output_type": "execute_result"
    }
   ],
   "source": [
    "amazon.tail()"
   ]
  },
  {
   "cell_type": "code",
   "execution_count": 51,
   "metadata": {},
   "outputs": [],
   "source": [
    "amazon.to_csv('amazon_tft.csv')"
   ]
  }
 ],
 "metadata": {
  "anaconda-cloud": {},
  "colab": {
   "include_colab_link": true,
   "provenance": []
  },
  "gpuClass": "standard",
  "kernelspec": {
   "display_name": "Python 3 (ipykernel)",
   "language": "python",
   "name": "python3"
  },
  "language_info": {
   "codemirror_mode": {
    "name": "ipython",
    "version": 3
   },
   "file_extension": ".py",
   "mimetype": "text/x-python",
   "name": "python",
   "nbconvert_exporter": "python",
   "pygments_lexer": "ipython3",
   "version": "3.9.13"
  }
 },
 "nbformat": 4,
 "nbformat_minor": 1
}
